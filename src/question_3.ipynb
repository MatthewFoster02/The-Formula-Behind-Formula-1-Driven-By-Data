{
 "cells": [
  {
   "cell_type": "code",
   "execution_count": 72,
   "metadata": {},
   "outputs": [],
   "source": [
    "import pandas as pd\n",
    "import numpy as np\n",
    "from matplotlib import pyplot as plt\n",
    "import seaborn as sns\n",
    "import datetime"
   ]
  },
  {
   "cell_type": "code",
   "execution_count": 73,
   "metadata": {},
   "outputs": [],
   "source": [
    "results = pd.read_csv('../data/results.csv')\n",
    "races = pd.read_csv('../data/races.csv')\n",
    "status = pd.read_csv('../data/status.csv')\n",
    "circuits = pd.read_csv('../data/circuits.csv')"
   ]
  },
  {
   "cell_type": "code",
   "execution_count": 81,
   "metadata": {},
   "outputs": [],
   "source": [
    "############################################\n",
    "# MATTYLAD COPY EVERYTHING BELOW THX A LOT #\n",
    "############################################\n",
    "\n",
    "# if you want you can also correct my perfect english"
   ]
  },
  {
   "attachments": {},
   "cell_type": "markdown",
   "metadata": {},
   "source": [
    "## Question 3\n",
    "### How does the altitude of a racing circuit affect the number of mechanical failures?\n",
    "\n",
    "Formula 1 cars consists of lots of different components. Some of them are heat sensitive and require excessive cooling during the race achieved by making use of the airflow. <br>\n",
    "In higher altitudes the air becomes less and less dense, thus reducing its cooling effect.\n",
    "\n",
    "Therefore we hypothesise that there is a positive correlation beteen the altitude of a circuit and the number of mechanical failures held at that circuit.\n",
    "\n",
    "### Merging\n",
    "\n",
    "The finishing status of every driver per race is listed in *races*. However, *races* does not reference the circuit the result was scored on, thus we do not have direct access to the altitude. <br>\n",
    "In order to have access to the altitude for each result, *results* and *races* are merged to obtain circuitId. Using circuitId to merge *circuits* we obtain the altitude for each record in *results*."
   ]
  },
  {
   "cell_type": "code",
   "execution_count": 74,
   "metadata": {},
   "outputs": [],
   "source": [
    "# merge results and races to gain 'circuitId' and 'date'\n",
    "results_copy = results[['resultId', 'raceId', 'statusId']].merge(races[['raceId', 'circuitId', 'date']], on='raceId')\n",
    "\n",
    "# merge newly obtained df and circuits to gain 'location', 'country' and 'alt'\n",
    "results_copy = results_copy.merge(circuits[['circuitId', 'alt']], on='circuitId')\n",
    "results_copy['alt'] = pd.to_numeric(results_copy['alt'], errors='coerce')"
   ]
  },
  {
   "attachments": {},
   "cell_type": "markdown",
   "metadata": {},
   "source": [
    "### Selecting\n",
    "\n",
    "Due to the various changes in the technical regulations as well as the improvements in durability of car components, only data from year 2000 and onwards will be considered. "
   ]
  },
  {
   "cell_type": "code",
   "execution_count": 75,
   "metadata": {},
   "outputs": [],
   "source": [
    "# only take races from 2000 onwards into account\n",
    "results_copy['date'] = pd.to_datetime(results_copy['date'])\n",
    "results_copy = results_copy[results_copy['date'] > datetime.datetime(2000, 1, 1)]"
   ]
  },
  {
   "attachments": {},
   "cell_type": "markdown",
   "metadata": {},
   "source": [
    "### Labeling\n",
    "\n",
    "Finally, we have to define 'mechanical failure'. For this analysis we decided to label a result as a 'mechanical failure' if a driver's race ended due to on of the following causes:\n",
    "- engine failure\n",
    "- overheating\n",
    "- radiator failure\n",
    "- turbo failure\n",
    "- cooling system failure\n",
    "\n",
    "*status* features a lot more failures, however most of them are not related to car components that we suspect to be influenced by high air density and therefore are not considered."
   ]
  },
  {
   "cell_type": "code",
   "execution_count": 76,
   "metadata": {},
   "outputs": [
    {
     "name": "stdout",
     "output_type": "stream",
     "text": [
      "(9200, 7)\n"
     ]
    },
    {
     "data": {
      "text/html": [
       "<div>\n",
       "<style scoped>\n",
       "    .dataframe tbody tr th:only-of-type {\n",
       "        vertical-align: middle;\n",
       "    }\n",
       "\n",
       "    .dataframe tbody tr th {\n",
       "        vertical-align: top;\n",
       "    }\n",
       "\n",
       "    .dataframe thead th {\n",
       "        text-align: right;\n",
       "    }\n",
       "</style>\n",
       "<table border=\"1\" class=\"dataframe\">\n",
       "  <thead>\n",
       "    <tr style=\"text-align: right;\">\n",
       "      <th></th>\n",
       "      <th>resultId</th>\n",
       "      <th>raceId</th>\n",
       "      <th>statusId</th>\n",
       "      <th>circuitId</th>\n",
       "      <th>date</th>\n",
       "      <th>alt</th>\n",
       "      <th>mechanical_failure</th>\n",
       "    </tr>\n",
       "  </thead>\n",
       "  <tbody>\n",
       "    <tr>\n",
       "      <th>0</th>\n",
       "      <td>1</td>\n",
       "      <td>18</td>\n",
       "      <td>1</td>\n",
       "      <td>1</td>\n",
       "      <td>2008-03-16</td>\n",
       "      <td>10.0</td>\n",
       "      <td>0</td>\n",
       "    </tr>\n",
       "    <tr>\n",
       "      <th>1</th>\n",
       "      <td>2</td>\n",
       "      <td>18</td>\n",
       "      <td>1</td>\n",
       "      <td>1</td>\n",
       "      <td>2008-03-16</td>\n",
       "      <td>10.0</td>\n",
       "      <td>0</td>\n",
       "    </tr>\n",
       "    <tr>\n",
       "      <th>2</th>\n",
       "      <td>3</td>\n",
       "      <td>18</td>\n",
       "      <td>1</td>\n",
       "      <td>1</td>\n",
       "      <td>2008-03-16</td>\n",
       "      <td>10.0</td>\n",
       "      <td>0</td>\n",
       "    </tr>\n",
       "    <tr>\n",
       "      <th>3</th>\n",
       "      <td>4</td>\n",
       "      <td>18</td>\n",
       "      <td>1</td>\n",
       "      <td>1</td>\n",
       "      <td>2008-03-16</td>\n",
       "      <td>10.0</td>\n",
       "      <td>0</td>\n",
       "    </tr>\n",
       "    <tr>\n",
       "      <th>4</th>\n",
       "      <td>5</td>\n",
       "      <td>18</td>\n",
       "      <td>1</td>\n",
       "      <td>1</td>\n",
       "      <td>2008-03-16</td>\n",
       "      <td>10.0</td>\n",
       "      <td>0</td>\n",
       "    </tr>\n",
       "  </tbody>\n",
       "</table>\n",
       "</div>"
      ],
      "text/plain": [
       "   resultId  raceId  statusId  circuitId       date   alt  mechanical_failure\n",
       "0         1      18         1          1 2008-03-16  10.0                   0\n",
       "1         2      18         1          1 2008-03-16  10.0                   0\n",
       "2         3      18         1          1 2008-03-16  10.0                   0\n",
       "3         4      18         1          1 2008-03-16  10.0                   0\n",
       "4         5      18         1          1 2008-03-16  10.0                   0"
      ]
     },
     "execution_count": 76,
     "metadata": {},
     "output_type": "execute_result"
    }
   ],
   "source": [
    "# indicate records with mechanical failures\n",
    "statusIds_failures = [5, 25, 21, 101, 141] # engine, overheating, radiator, turbo, cooling system respectively\n",
    "results_copy['mechanical_failure'] = results_copy['statusId'].isin(statusIds_failures).astype(int)\n",
    "\n",
    "# display dataframe\n",
    "print(results_copy.shape)\n",
    "results_copy.head()"
   ]
  },
  {
   "attachments": {},
   "cell_type": "markdown",
   "metadata": {},
   "source": [
    "### Calculating mechanical failures per race for each altitude\n",
    "\n",
    "After preparing the data, the next step is calculating the mechanical failures per race for each altitude. In order to achieve this, firstly the data needs to be grouped by altitude while keeping track of the number of races and failures at each altitude. After that the average number of failures per race is calculated."
   ]
  },
  {
   "cell_type": "code",
   "execution_count": 77,
   "metadata": {},
   "outputs": [
    {
     "name": "stdout",
     "output_type": "stream",
     "text": [
      "(25, 4)\n"
     ]
    },
    {
     "data": {
      "text/html": [
       "<div>\n",
       "<style scoped>\n",
       "    .dataframe tbody tr th:only-of-type {\n",
       "        vertical-align: middle;\n",
       "    }\n",
       "\n",
       "    .dataframe tbody tr th {\n",
       "        vertical-align: top;\n",
       "    }\n",
       "\n",
       "    .dataframe thead th {\n",
       "        text-align: right;\n",
       "    }\n",
       "</style>\n",
       "<table border=\"1\" class=\"dataframe\">\n",
       "  <thead>\n",
       "    <tr style=\"text-align: right;\">\n",
       "      <th></th>\n",
       "      <th>alt</th>\n",
       "      <th>num_races</th>\n",
       "      <th>num_failures</th>\n",
       "      <th>failures_per_race</th>\n",
       "    </tr>\n",
       "  </thead>\n",
       "  <tbody>\n",
       "    <tr>\n",
       "      <th>0</th>\n",
       "      <td>-7.0</td>\n",
       "      <td>6</td>\n",
       "      <td>1</td>\n",
       "      <td>0.166667</td>\n",
       "    </tr>\n",
       "    <tr>\n",
       "      <th>2</th>\n",
       "      <td>2.0</td>\n",
       "      <td>8</td>\n",
       "      <td>0</td>\n",
       "      <td>0.000000</td>\n",
       "    </tr>\n",
       "    <tr>\n",
       "      <th>3</th>\n",
       "      <td>3.0</td>\n",
       "      <td>14</td>\n",
       "      <td>3</td>\n",
       "      <td>0.214286</td>\n",
       "    </tr>\n",
       "    <tr>\n",
       "      <th>4</th>\n",
       "      <td>4.0</td>\n",
       "      <td>5</td>\n",
       "      <td>2</td>\n",
       "      <td>0.400000</td>\n",
       "    </tr>\n",
       "    <tr>\n",
       "      <th>5</th>\n",
       "      <td>5.0</td>\n",
       "      <td>16</td>\n",
       "      <td>4</td>\n",
       "      <td>0.250000</td>\n",
       "    </tr>\n",
       "  </tbody>\n",
       "</table>\n",
       "</div>"
      ],
      "text/plain": [
       "   alt  num_races  num_failures  failures_per_race\n",
       "0 -7.0          6             1           0.166667\n",
       "2  2.0          8             0           0.000000\n",
       "3  3.0         14             3           0.214286\n",
       "4  4.0          5             2           0.400000\n",
       "5  5.0         16             4           0.250000"
      ]
     },
     "execution_count": 77,
     "metadata": {},
     "output_type": "execute_result"
    }
   ],
   "source": [
    "# group by altitude\n",
    "failures_at_alt = results_copy.groupby('alt').agg(\n",
    "    num_races=('raceId', 'nunique'),\n",
    "    num_failures=('mechanical_failure', 'sum')\n",
    ").reset_index()\n",
    "\n",
    "# calculate failures per race for each altitude\n",
    "failures_at_alt['failures_per_race'] = failures_at_alt['num_failures'] / failures_at_alt['num_races']\n",
    "\n",
    "# only take altitudes into account at which 5 or more races were hosted\n",
    "failures_at_alt = failures_at_alt[failures_at_alt['num_races'] >= 5]\n",
    "\n",
    "# display dataframe\n",
    "print(failures_at_alt.shape)\n",
    "failures_at_alt.head()"
   ]
  },
  {
   "attachments": {},
   "cell_type": "markdown",
   "metadata": {},
   "source": [
    "### Results\n",
    "In the following section the correlation between the altitude and failures per race is calulcated and a scatterplot including regression line is displayed."
   ]
  },
  {
   "cell_type": "code",
   "execution_count": 78,
   "metadata": {},
   "outputs": [],
   "source": [
    "# calculate correlation between altitiude and failures per race\n",
    "corr_alt_failures = failures_at_alt['alt'].corr(failures_at_alt['failures_per_race'])"
   ]
  },
  {
   "cell_type": "code",
   "execution_count": 79,
   "metadata": {},
   "outputs": [
    {
     "data": {
      "image/png": "[encoded data removed]",
      "text/plain": [
       "<Figure size 432x288 with 1 Axes>"
      ]
     },
     "metadata": {
      "needs_background": "light"
     },
     "output_type": "display_data"
    },
    {
     "name": "stdout",
     "output_type": "stream",
     "text": [
      "Correlation between altitude and failures per race: 0.2998\n"
     ]
    }
   ],
   "source": [
    "# display results\n",
    "sns.regplot(data=failures_at_alt, x='alt', y='failures_per_race')\n",
    "plt.xlabel('Altitude in meters above sea level')\n",
    "plt.ylabel('Failures per race')\n",
    "plt.title('Effect of altitude on number of mechanical failures')\n",
    "plt.show()\n",
    "print('Correlation between altitude and failures per race:', round(corr_alt_failures, 4))"
   ]
  },
  {
   "attachments": {},
   "cell_type": "markdown",
   "metadata": {},
   "source": [
    "As one can see, the correlation is significantly lower than expected. \n",
    "\n",
    "We came to the conclusion that this likely refers to the fact that the data is heavily skewd towards lower altitudes, as a lot of race tracks are build close to the coast. Additionally, there are various different reasons for cooling sensitive parts to fail, such as high temperature, humidity or sand."
   ]
  }
 ],
 "metadata": {
  "kernelspec": {
   "display_name": "base",
   "language": "python",
   "name": "python3"
  },
  "language_info": {
   "codemirror_mode": {
    "name": "ipython",
    "version": 3
   },
   "file_extension": ".py",
   "mimetype": "text/x-python",
   "name": "python",
   "nbconvert_exporter": "python",
   "pygments_lexer": "ipython3",
   "version": "3.9.12"
  },
  "orig_nbformat": 4
 },
 "nbformat": 4,
 "nbformat_minor": 2
}
